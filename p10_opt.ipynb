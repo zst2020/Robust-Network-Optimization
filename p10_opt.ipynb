{
 "cells": [
  {
   "cell_type": "code",
   "execution_count": 2,
   "id": "15ba651a-0b3f-4f67-8bac-506432cad856",
   "metadata": {},
   "outputs": [
    {
     "name": "stderr",
     "output_type": "stream",
     "text": [
      "Using TensorFlow backend.\n",
      "2023-07-06 10:21:25,262 - D:\\SRCON_CODEHUB\\gridHeight4\\calculate_A\\A_manger.py -__init__ -MainProcess-MainThread[line:44] - INFO: loading antenna gain file...\n",
      "2023-07-06 10:21:25,263 - D:\\SRCON_CODEHUB\\gridHeight4\\calculate_A\\A_manger.py -__init__ -MainProcess-MainThread[line:46] - INFO: loading CSI weight file file...\n",
      "2023-07-06 10:21:25,264 - D:\\SRCON_CODEHUB\\gridHeight4\\calculate_A\\A_manger.py -__init__ -MainProcess-MainThread[line:48] - INFO: loading SSB weight file file...\n"
     ]
    }
   ],
   "source": [
    "# load all require packs\n",
    "import sys \n",
    "import pickle\n",
    "import numpy as np\n",
    "import json\n",
    "from time import time\n",
    "import matplotlib.pyplot as plt\n",
    "from utils import BlackBoxSRCONObjective\n",
    "from zoopt import Dimension, ValueType, Dimension2, Objective, Parameter, Opt, ExpOpt\n",
    "from matplotlib import cm\n",
    "from tqdm import tqdm\n",
    "from scipy.special import expit, logsumexp"
   ]
  },
  {
   "cell_type": "markdown",
   "id": "a61edcd7-0fa5-4880-99f2-f22701b67a6a",
   "metadata": {},
   "source": [
    "# choose dataset/define the optimization problem\n",
    "\n",
    "We define a class \"BlackBoxSRCONObjective\" which transforms the srcon optimization problem into a black-box optimization problem with the interval constraint $[0,1]^{d}$"
   ]
  },
  {
   "cell_type": "code",
   "execution_count": 3,
   "id": "181db0c1-4c90-410a-9f4c-82d2922c57f3",
   "metadata": {},
   "outputs": [
    {
     "name": "stderr",
     "output_type": "stream",
     "text": [
      "2023-07-06 10:21:27,332 - D:\\SRCON_CODEHUB\\gridHeight4\\rf_and_ssb_opt\\score.py -_revise_grid_to_cell_dict -MainProcess-MainThread[line:864] - INFO: total cell grid num: 7006\n",
      "2023-07-06  10:21:27 Thu INFO total cell grid num: 7006\n",
      "2023-07-06 10:21:27,334 - D:\\SRCON_CODEHUB\\gridHeight4\\rf_and_ssb_opt\\score.py -_revise_grid_to_cell_dict -MainProcess-MainThread[line:865] - INFO: L3 cell rsrp filter grid num: 0\n",
      "2023-07-06  10:21:27 Thu INFO L3 cell rsrp filter grid num: 0\n",
      "2023-07-06 10:21:27,335 - D:\\SRCON_CODEHUB\\gridHeight4\\rf_and_ssb_opt\\score.py -_revise_grid_to_cell_dict -MainProcess-MainThread[line:866] - INFO: Neigbor cell rsrp thd filter grid num: 2625\n",
      "2023-07-06  10:21:27 Thu INFO Neigbor cell rsrp thd filter grid num: 2625\n",
      "2023-07-06 10:21:27,337 - D:\\SRCON_CODEHUB\\gridHeight4\\rf_and_ssb_opt\\score.py -_revise_grid_to_cell_dict -MainProcess-MainThread[line:867] - INFO: Have no X! removed grid num: 1\n",
      "2023-07-06  10:21:27 Thu INFO Have no X! removed grid num: 1\n",
      "2023-07-06 10:21:27,340 - D:\\SRCON_CODEHUB\\gridHeight4\\rf_and_ssb_opt\\score.py -_revise_grid_to_cell_dict -MainProcess-MainThread[line:869] - INFO: There are 4380 cell grid in optimization!\n",
      "2023-07-06  10:21:27 Thu INFO There are 4380 cell grid in optimization!\n",
      "2023-07-06 10:21:27,342 - D:\\SRCON_CODEHUB\\gridHeight4\\rf_and_ssb_opt\\score.py -_revise_grid_to_cell_dict -MainProcess-MainThread[line:871] - INFO: Before filter have 1153 physical grids, the num after filter is 1153!\n",
      "2023-07-06  10:21:27 Thu INFO Before filter have 1153 physical grids, the num after filter is 1153!\n"
     ]
    },
    {
     "name": "stdout",
     "output_type": "stream",
     "text": [
      "Number of Base stations: 35\n",
      "Number of parameters : 70\n",
      "Base solution : [0.5        0.42857143 0.5        0.42857143 0.5        0.42857143\n",
      " 0.5        0.42857143 0.5        0.42857143 0.5        0.42857143\n",
      " 0.5        0.42857143 0.5        0.42857143 0.5        0.42857143\n",
      " 0.5        0.42857143 0.5        0.42857143 0.5        0.42857143\n",
      " 0.5        0.42857143 0.5        0.42857143 0.5        0.42857143\n",
      " 0.5        0.42857143 0.5        0.42857143 0.5        0.42857143\n",
      " 0.5        0.42857143 0.5        0.42857143 0.5        0.42857143\n",
      " 0.5        0.42857143 0.5        0.42857143 0.5        0.42857143\n",
      " 0.5        0.42857143 0.5        0.42857143 0.5        0.42857143\n",
      " 0.5        0.42857143 0.5        0.42857143 0.5        0.42857143\n",
      " 0.5        0.42857143 0.5        0.42857143 0.5        0.42857143\n",
      " 0.5        0.42857143 0.5        0.42857143]\n",
      "Baseline average SE : 2471.55\n"
     ]
    }
   ],
   "source": [
    "dataset = \"nandong\"#[\"hanjiang\", \"nandong\",\"shangxi1\", \"shangxi34\",\"sanxiandong\" \"songlin2\", \"songpo1\",\"yuegu2\"] \n",
    "objective = BlackBoxSRCONObjective(dataset) \n",
    "\n",
    "# some basic information\n",
    "print(\"Number of Base stations:\",objective.num_bs)\n",
    "print(\"Number of parameters :\",objective.num_para)\n",
    "print(\"Base solution :\",objective.base_solution) \n",
    "print(\"Baseline average SE :\",objective.base_se)\n",
    "all_grid_call_base = objective.call(objective.base_solution,all_grids = True)\n",
    "Z_base=[np.sum([se*prob for se,prob in all_grid_call_base[inde].values()]) for inde in list(all_grid_call_base.keys())]"
   ]
  },
  {
   "cell_type": "markdown",
   "id": "6e23cf35-e1a1-4a88-a6b7-9bf05ddc5747",
   "metadata": {},
   "source": [
    "# transform the vector to cell-para dictionary"
   ]
  },
  {
   "cell_type": "code",
   "execution_count": 5,
   "id": "775faa65-400e-4150-8a11-8db5b3dceda5",
   "metadata": {},
   "outputs": [
    {
     "data": {
      "text/plain": [
       "{(3936301, 86): {'M_Azimuth': 0.0, 'M_Tilt': 0.0},\n",
       " (3936301, 989): {'M_Azimuth': 0.0, 'M_Tilt': 0.0},\n",
       " (3936301, 76): {'M_Azimuth': 0.0, 'M_Tilt': 0.0},\n",
       " (3936301, 651): {'M_Azimuth': 0.0, 'M_Tilt': 0.0},\n",
       " (3936301, 793): {'M_Azimuth': 0.0, 'M_Tilt': 0.0},\n",
       " (3936301, 415): {'M_Azimuth': 0.0, 'M_Tilt': 0.0},\n",
       " (3937607, 487): {'M_Azimuth': 0.0, 'M_Tilt': 0.0},\n",
       " (3936301, 984): {'M_Azimuth': 0.0, 'M_Tilt': 0.0},\n",
       " (3936301, 34): {'M_Azimuth': 0.0, 'M_Tilt': 0.0},\n",
       " (3936308, 729): {'M_Azimuth': 0.0, 'M_Tilt': 0.0},\n",
       " (3936301, 901): {'M_Azimuth': 0.0, 'M_Tilt': 0.0},\n",
       " (3936300, 482): {'M_Azimuth': 0.0, 'M_Tilt': 0.0},\n",
       " (3937674, 50): {'M_Azimuth': 0.0, 'M_Tilt': 0.0},\n",
       " (3937661, 427): {'M_Azimuth': 0.0, 'M_Tilt': 0.0},\n",
       " (3936300, 285): {'M_Azimuth': 0.0, 'M_Tilt': 0.0},\n",
       " (3936301, 299): {'M_Azimuth': 0.0, 'M_Tilt': 0.0},\n",
       " (3936308, 307): {'M_Azimuth': 0.0, 'M_Tilt': 0.0},\n",
       " (3936308, 353): {'M_Azimuth': 0.0, 'M_Tilt': 0.0},\n",
       " (3936300, 332): {'M_Azimuth': 0.0, 'M_Tilt': 0.0},\n",
       " (3937661, 421): {'M_Azimuth': 0.0, 'M_Tilt': 0.0},\n",
       " (3937661, 765): {'M_Azimuth': 0.0, 'M_Tilt': 0.0},\n",
       " (3936301, 756): {'M_Azimuth': 0.0, 'M_Tilt': 0.0},\n",
       " (3937674, 82): {'M_Azimuth': 0.0, 'M_Tilt': 0.0},\n",
       " (3936299, 338): {'M_Azimuth': 0.0, 'M_Tilt': 0.0},\n",
       " (3937607, 463): {'M_Azimuth': 0.0, 'M_Tilt': 0.0},\n",
       " (3937607, 294): {'M_Azimuth': 0.0, 'M_Tilt': 0.0},\n",
       " (3936299, 794): {'M_Azimuth': 0.0, 'M_Tilt': 0.0},\n",
       " (3937607, 350): {'M_Azimuth': 0.0, 'M_Tilt': 0.0},\n",
       " (3936589, 893): {'M_Azimuth': 0.0, 'M_Tilt': 0.0},\n",
       " (3937607, 986): {'M_Azimuth': 0.0, 'M_Tilt': 0.0},\n",
       " (3937607, 17): {'M_Azimuth': 0.0, 'M_Tilt': 0.0},\n",
       " (3936299, 467): {'M_Azimuth': 0.0, 'M_Tilt': 0.0},\n",
       " (3936299, 452): {'M_Azimuth': 0.0, 'M_Tilt': 0.0},\n",
       " (3937674, 633): {'M_Azimuth': 0.0, 'M_Tilt': 0.0},\n",
       " (3937674, 519): {'M_Azimuth': 0.0, 'M_Tilt': 0.0}}"
      ]
     },
     "execution_count": 5,
     "metadata": {},
     "output_type": "execute_result"
    }
   ],
   "source": [
    "objective._var_transform(objective.base_solution)"
   ]
  },
  {
   "cell_type": "code",
   "execution_count": 6,
   "id": "9f3ebf0d-69e7-4f10-9bf3-2bed76353455",
   "metadata": {},
   "outputs": [
    {
     "data": {
      "text/plain": [
       "[(3936301, 86),\n",
       " (3936301, 989),\n",
       " (3936301, 76),\n",
       " (3936301, 651),\n",
       " (3936301, 793),\n",
       " (3936301, 415),\n",
       " (3937607, 487),\n",
       " (3936301, 984),\n",
       " (3936301, 34),\n",
       " (3936308, 729),\n",
       " (3936301, 901),\n",
       " (3936300, 482),\n",
       " (3937674, 50),\n",
       " (3937661, 427),\n",
       " (3936300, 285),\n",
       " (3936301, 299),\n",
       " (3936308, 307),\n",
       " (3936308, 353),\n",
       " (3936300, 332),\n",
       " (3937661, 421),\n",
       " (3937661, 765),\n",
       " (3936301, 756),\n",
       " (3937674, 82),\n",
       " (3936299, 338),\n",
       " (3937607, 463),\n",
       " (3937607, 294),\n",
       " (3936299, 794),\n",
       " (3937607, 350),\n",
       " (3936589, 893),\n",
       " (3937607, 986),\n",
       " (3937607, 17),\n",
       " (3936299, 467),\n",
       " (3936299, 452),\n",
       " (3937674, 633),\n",
       " (3937674, 519)]"
      ]
     },
     "execution_count": 6,
     "metadata": {},
     "output_type": "execute_result"
    }
   ],
   "source": [
    "#\n",
    "\n",
    "objective.cell_list"
   ]
  },
  {
   "cell_type": "code",
   "execution_count": 7,
   "id": "1283c233-fd0a-4337-be72-aaab5882bd22",
   "metadata": {},
   "outputs": [
    {
     "data": {
      "text/plain": [
       "array([0.5       , 0.42857143, 0.5       , 0.42857143, 0.5       ,\n",
       "       0.42857143, 0.5       , 0.42857143, 0.5       , 0.42857143,\n",
       "       0.5       , 0.42857143, 0.5       , 0.42857143, 0.5       ,\n",
       "       0.42857143, 0.5       , 0.42857143, 0.5       , 0.42857143,\n",
       "       0.5       , 0.42857143, 0.5       , 0.42857143, 0.5       ,\n",
       "       0.42857143, 0.5       , 0.42857143, 0.5       , 0.42857143,\n",
       "       0.5       , 0.42857143, 0.5       , 0.42857143, 0.5       ,\n",
       "       0.42857143, 0.5       , 0.42857143, 0.5       , 0.42857143,\n",
       "       0.5       , 0.42857143, 0.5       , 0.42857143, 0.5       ,\n",
       "       0.42857143, 0.5       , 0.42857143, 0.5       , 0.42857143,\n",
       "       0.5       , 0.42857143, 0.5       , 0.42857143, 0.5       ,\n",
       "       0.42857143, 0.5       , 0.42857143, 0.5       , 0.42857143,\n",
       "       0.5       , 0.42857143, 0.5       , 0.42857143, 0.5       ,\n",
       "       0.42857143, 0.5       , 0.42857143, 0.5       , 0.42857143])"
      ]
     },
     "execution_count": 7,
     "metadata": {},
     "output_type": "execute_result"
    }
   ],
   "source": [
    "objective.base_solution"
   ]
  },
  {
   "cell_type": "markdown",
   "id": "4472989d-3e16-4f8c-88bc-21d6fe801313",
   "metadata": {},
   "source": [
    "# define the p10 function and smoothed p10 function"
   ]
  },
  {
   "cell_type": "code",
   "execution_count": 4,
   "id": "e619d326-163a-496f-860a-1ca5ce31dc10",
   "metadata": {},
   "outputs": [],
   "source": [
    "def p10_func(x):\n",
    "    all_grid_call_base = objective.call(x,all_grids = True)\n",
    "    Z_base=[np.sum([se*prob for se,prob in all_grid_call_base[inde].values()]) for inde in list(all_grid_call_base.keys())]\n",
    "    return np.quantile(Z_base,0.1)\n",
    "\n",
    "def smooth_p10_func_newton(x,tau=100): # tau is the parameter that controls smoothness, when tau ->0, the function approximates p10.\n",
    "    alpha=0.1\n",
    "    all_grid_call_base = objective.call(x,all_grids = True)\n",
    "    Z_base=np.array([np.sum([se*prob for se,prob in all_grid_call_base[inde].values()]) for inde in list(all_grid_call_base.keys())])\n",
    "    \n",
    "    opt_c=np.mean(Z_base)\n",
    "    newton_step = 1\n",
    "    while np.abs(newton_step)>1e-2:\n",
    "        expit_c =  expit((np.array(Z_base)-opt_c)/tau)\n",
    "        newton_step = tau * (np.mean(expit_c) + alpha- 1) / np.mean(expit_c * (1-expit_c))\n",
    "        opt_c+=newton_step\n",
    "    \n",
    "    return opt_c\n"
   ]
  },
  {
   "cell_type": "markdown",
   "id": "e54e1159-0b9d-49b7-b68e-cb3f284f6961",
   "metadata": {},
   "source": [
    "# coordinate ascent algorithm\n",
    "\n",
    "At each step, pick a coordinate to optimize. The optimization is performed by first split $[0,1]$ into $15$ points, and then do exhaustive search."
   ]
  },
  {
   "cell_type": "code",
   "execution_count": 5,
   "id": "7c4a22ca-4141-4f45-9e6e-e627e6c7754e",
   "metadata": {},
   "outputs": [],
   "source": [
    "def coordinate_opt(func, initial, num_sweep = 10):\n",
    "    base_value = func(initial)\n",
    "    now_solution = initial.copy()\n",
    "    cd_queries = [now_solution.copy()]\n",
    "    test_point = np.linspace(0,1,15)\n",
    "    picked = -1\n",
    "    pbar = tqdm(range(num_sweep),unit=\"sweep\")\n",
    "    log = {\"p10\":[p10_func(now_solution)]}\n",
    "    for _ in pbar:\n",
    "        shuffled = np.random.permutation(objective.num_para)\n",
    "        for picked in shuffled:\n",
    "            try_solution = now_solution.copy()\n",
    "            try_xi = []\n",
    "            try_obj = []\n",
    "            old_xi = try_solution[picked]\n",
    "            for xi in test_point:\n",
    "                try_solution[picked] = xi\n",
    "                try_xi.append(xi)\n",
    "                obj = func(try_solution)\n",
    "                pbar.set_postfix(obj=obj)\n",
    "                cd_queries.append(try_solution)\n",
    "                \n",
    "                #log[\"mean\"].append(mean_func(try_solution))\n",
    "                log[\"p10\"].append(p10_func(try_solution))\n",
    "                #log[\"smooth_p10\"].append(smooth_p10_func(try_solution))\n",
    "                \n",
    "                try_obj.append(obj)\n",
    "            now_solution[picked] = try_xi[np.argmax(try_obj)].copy()\n",
    "            \n",
    "    return cd_queries, log"
   ]
  },
  {
   "cell_type": "markdown",
   "id": "77e4b0f0-0e3d-49a6-8327-de151e252920",
   "metadata": {},
   "source": [
    "# Using coordinate ascent algorithm to do optimization, with p10 and smoothed p10 as objective function"
   ]
  },
  {
   "cell_type": "code",
   "execution_count": 6,
   "id": "ba39d69f-454c-4e3b-8726-d63489ccdc6d",
   "metadata": {},
   "outputs": [
    {
     "name": "stderr",
     "output_type": "stream",
     "text": [
      "100%|███████████████████████████████████████████████████████████████████████████████████████████████████████████████████████████████████████████████████████████████| 10/10 [05:18<00:00, 31.86s/sweep, obj=1.84e+3]\n",
      "100%|████████████████████████████████████████████████████████████████████████████████████████████████████████████████████████████████████████████████████████████████| 10/10 [04:24<00:00, 26.45s/sweep, obj=1.8e+3]\n"
     ]
    }
   ],
   "source": [
    "# optimize p10\n",
    "cord_p10_sols, cord_p10_logs  = coordinate_opt(p10_func, objective.base_solution, num_sweep = 10)\n",
    "\n",
    "# optimize smoothed p10\n",
    "cord_smooth_newton_p10_sols, cord_smooth_newton_p10_logs  = coordinate_opt(smooth_p10_func_newton, objective.base_solution, num_sweep = 10)"
   ]
  },
  {
   "cell_type": "markdown",
   "id": "6b1fd158-3860-4086-846d-7d7cdf2c80fb",
   "metadata": {},
   "source": [
    "# Visualization of the optimization log"
   ]
  },
  {
   "cell_type": "code",
   "execution_count": 8,
   "id": "15e1d921-8213-41e2-b2a0-ba4b07fa5ddf",
   "metadata": {},
   "outputs": [
    {
     "data": {
      "image/png": "[encoded data removed]",
      "text/plain": [
       "<Figure size 720x720 with 1 Axes>"
      ]
     },
     "metadata": {
      "needs_background": "light"
     },
     "output_type": "display_data"
    }
   ],
   "source": [
    "def pick_max(arr):\n",
    "    new_arr = [arr[0]]\n",
    "    for a in arr[1:]:\n",
    "        new_arr.append(max([new_arr[-1],a]))\n",
    "    return new_arr\n",
    "\n",
    "plt.figure(figsize=(10,10))\n",
    "plt.plot(pick_max(cord_p10_logs[\"p10\"]), label=r\"optimize p10\")\n",
    "plt.plot(pick_max(cord_smooth_newton_p10_logs[\"p10\"]), label=r\"optimize smoothed p10\")\n",
    "\n",
    "plt.legend(prop={'size': 25})\n",
    "plt.xlabel(\"queries\",fontsize=25)\n",
    "plt.ylabel(\"p10\",fontsize=25)\n",
    "plt.show()"
   ]
  }
 ],
 "metadata": {
  "kernelspec": {
   "display_name": "Python 3 (ipykernel)",
   "language": "python",
   "name": "python3"
  },
  "language_info": {
   "codemirror_mode": {
    "name": "ipython",
    "version": 3
   },
   "file_extension": ".py",
   "mimetype": "text/x-python",
   "name": "python",
   "nbconvert_exporter": "python",
   "pygments_lexer": "ipython3",
   "version": "3.7.0"
  }
 },
 "nbformat": 4,
 "nbformat_minor": 5
}
